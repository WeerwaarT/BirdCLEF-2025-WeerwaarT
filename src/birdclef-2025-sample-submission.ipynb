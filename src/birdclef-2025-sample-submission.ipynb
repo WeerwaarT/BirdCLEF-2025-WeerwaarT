{
 "cells": [
  {
   "cell_type": "markdown",
   "metadata": {},
   "source": [
    "## BirdCLEF+ 2025 Sample Submission\n",
    "\n",
    "This is a quick run through the submission process. Test data is hidden, so we can't access it before submission. In order to make a valid submission, here's what we'll do:\n",
    "\n",
    "1. Make sure we predict for all 206 classes in the train data\n",
    "2. Load a list of test soundscapes\n",
    "3. Process each soundscape\n",
    "     - load audio\n",
    "     - split into 5-second chunks\n",
    "     - run model inference for each chunk\n",
    "     - save predictions\n",
    "4. Make submission csv file\n",
    "5. Submit\n",
    "\n",
    "Ok, so here we go."
   ]
  },
  {
   "cell_type": "code",
   "execution_count": null,
   "metadata": {
    "_cell_guid": "b1076dfc-b9ad-4769-8c92-a6c4dae69d19",
    "_uuid": "8f2839f25d086af736a60e9eeb907d3b93b6e0e5",
    "execution": {
     "iopub.execute_input": "2025-03-05T10:13:31.984023Z",
     "iopub.status.busy": "2025-03-05T10:13:31.983553Z",
     "iopub.status.idle": "2025-03-05T10:13:32.024634Z",
     "shell.execute_reply": "2025-03-05T10:13:32.023649Z",
     "shell.execute_reply.started": "2025-03-05T10:13:31.98399Z"
    },
    "trusted": true
   },
   "outputs": [],
   "source": [
    "import os\n",
    "import librosa\n",
    "import numpy as np\n",
    "import pandas as pd\n",
    "\n",
    "# Set seed\n",
    "np.random.seed(42)\n",
    "\n",
    "# Class labels from train audio\n",
    "class_labels = sorted(os.listdir('/kaggle/input/birdclef-2025/train_audio/'))\n",
    "\n",
    "# List of test soundscapes (only visible during submission)\n",
    "test_soundscape_path = '/kaggle/input/birdclef-2025/test_soundscapes/'\n",
    "test_soundscapes = [os.path.join(test_soundscape_path, afile) for afile in sorted(os.listdir(test_soundscape_path)) if afile.endswith('.ogg')]\n",
    "\n",
    "# Open each soundscape and make predictions for 5-second segments\n",
    "# Use pandas df with 'row_id' plus class labels as columns\n",
    "predictions = pd.DataFrame(columns=['row_id'] + class_labels)\n",
    "for soundscape in test_soundscapes:\n",
    "\n",
    "    # Load audio\n",
    "    sig, rate = librosa.load(path=soundscape, sr=None)\n",
    "\n",
    "    # Split into 5-second chunks\n",
    "    chunks = []\n",
    "    for i in range(0, len(sig), int(rate*5)):\n",
    "        chunk = sig[i:i+rate*5]\n",
    "        chunks.append(chunk)\n",
    "        \n",
    "    # Make predictions for each chunk\n",
    "    for i, chunk in enumerate(chunks):\n",
    "        \n",
    "        # Get row id  (soundscape id + end time of 5s chunk)      \n",
    "        row_id = os.path.basename(soundscape).split('.')[0] + f'_{i * 5 + 5}'\n",
    "        \n",
    "        # Make prediction (let's use random scores for now)\n",
    "        # scores = model.predict...\n",
    "        scores = np.random.rand(len(class_labels))\n",
    "        \n",
    "        # Append to predictions as new row\n",
    "        new_row = pd.DataFrame([[row_id] + list(scores)], columns=['row_id'] + class_labels)\n",
    "        predictions = pd.concat([predictions, new_row], axis=0, ignore_index=True)\n",
    "        \n",
    "# Save prediction as csv\n",
    "predictions.to_csv('submission.csv', index=False)\n",
    "predictions.head()\n",
    "        "
   ]
  },
  {
   "cell_type": "markdown",
   "metadata": {},
   "source": [
    "In order to make a submission, we need to:\n",
    "- disable internet for this notebook (Settings --> Turn off internet)\n",
    "- make sure the notebook runs without errors and a submission file gets created\n",
    "- submit to competition (panel on the right)\n",
    "- wait for the notebook to finish (this may take a while, remember there's a 90-min time limit)\n",
    "\n",
    "If all goes well, we should see our submission scores on the leaderboard."
   ]
  }
 ],
 "metadata": {
  "kaggle": {
   "accelerator": "none",
   "dataSources": [
    {
     "databundleVersionId": 11361821,
     "sourceId": 91844,
     "sourceType": "competition"
    }
   ],
   "dockerImageVersionId": 30918,
   "isGpuEnabled": false,
   "isInternetEnabled": false,
   "language": "python",
   "sourceType": "notebook"
  },
  "kernelspec": {
   "display_name": "BirdCLEF-2025-WeerwaarT",
   "language": "python",
   "name": "python3"
  },
  "language_info": {
   "codemirror_mode": {
    "name": "ipython",
    "version": 3
   },
   "file_extension": ".py",
   "mimetype": "text/x-python",
   "name": "python",
   "nbconvert_exporter": "python",
   "pygments_lexer": "ipython3",
   "version": "3.11.11"
  }
 },
 "nbformat": 4,
 "nbformat_minor": 4
}
