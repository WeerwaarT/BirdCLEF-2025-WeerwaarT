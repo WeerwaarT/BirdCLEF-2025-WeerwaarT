{
 "cells": [
  {
   "cell_type": "markdown",
   "metadata": {},
   "source": [
    "# BirdCLEF+ 2025: Simple Submission"
   ]
  },
  {
   "cell_type": "markdown",
   "metadata": {},
   "source": [
    "![](https://www.kaggle.com/competitions/91844/images/header)\n",
    "\n",
    "This notebook shows a simple way to setup an inference pipeline for the [BirdCLEF+ 2025 competition](https://www.kaggle.com/competitions/birdclef-2025). \n",
    "\n",
    "Credits to [Stefan Kahl](https://www.kaggle.com/stefankahl) who set up [one of the first sample submission notebooks](https://www.kaggle.com/code/stefankahl/birdclef-2025-sample-submission). \n",
    "\n",
    "I simplified the process and optimized the loading/chunking process with [numpy](https://numpy.org/) and [soundfile](https://github.com/bastibe/python-soundfile). It can be helpful to first think about the problem yourself and then check out both approaches."
   ]
  },
  {
   "cell_type": "markdown",
   "metadata": {},
   "source": [
    "## Dependencies"
   ]
  },
  {
   "cell_type": "markdown",
   "metadata": {},
   "source": [
    "All these dependencies are included in the standard Kaggle Notebooks environment."
   ]
  },
  {
   "cell_type": "code",
   "execution_count": 17,
   "metadata": {
    "execution": {
     "iopub.execute_input": "2025-03-18T10:20:27.342094Z",
     "iopub.status.busy": "2025-03-18T10:20:27.341761Z",
     "iopub.status.idle": "2025-03-18T10:20:27.346508Z",
     "shell.execute_reply": "2025-03-18T10:20:27.345373Z",
     "shell.execute_reply.started": "2025-03-18T10:20:27.342064Z"
    },
    "trusted": true
   },
   "outputs": [],
   "source": [
    "import numpy as np\n",
    "import pandas as pd\n",
    "import soundfile as sf\n",
    "# Extension to pathlib.Path to simplify parsing directories\n",
    "from fastcore.xtras import Path"
   ]
  },
  {
   "cell_type": "markdown",
   "metadata": {},
   "source": [
    "## Get Paths and Labels"
   ]
  },
  {
   "cell_type": "markdown",
   "metadata": {},
   "source": [
    "From the [competition description](https://www.kaggle.com/competitions/birdclef-2025/data) we know that the data is resampled to 32kHz, so we use a sample rate of `32_000`. A submission requires us to submit in 5 second chunks, so we chunk on `32000 * 5 = 160,000` samples."
   ]
  },
  {
   "cell_type": "code",
   "execution_count": 18,
   "metadata": {
    "execution": {
     "iopub.execute_input": "2025-03-18T10:20:28.828021Z",
     "iopub.status.busy": "2025-03-18T10:20:28.827709Z",
     "iopub.status.idle": "2025-03-18T10:20:28.832557Z",
     "shell.execute_reply": "2025-03-18T10:20:28.831425Z",
     "shell.execute_reply.started": "2025-03-18T10:20:28.827996Z"
    },
    "trusted": true
   },
   "outputs": [],
   "source": [
    "BASE_PATH = \"../kaggle/input/birdclef-2025/\"\n",
    "TAXONOMY_PATH = f\"{BASE_PATH}taxonomy.csv\"\n",
    "TEST_SCAPES_PATH = f\"{BASE_PATH}test_soundscapes/\"\n",
    "SR, CHUNK_SEC = 32_000, 5\n",
    "FIVE_SEC_SR = SR * CHUNK_SEC"
   ]
  },
  {
   "cell_type": "markdown",
   "metadata": {},
   "source": [
    "We retrieve the labels from the taxonomy file."
   ]
  },
  {
   "cell_type": "code",
   "execution_count": 19,
   "metadata": {
    "execution": {
     "iopub.execute_input": "2025-03-18T10:20:30.427018Z",
     "iopub.status.busy": "2025-03-18T10:20:30.426719Z",
     "iopub.status.idle": "2025-03-18T10:20:30.447706Z",
     "shell.execute_reply": "2025-03-18T10:20:30.446806Z",
     "shell.execute_reply.started": "2025-03-18T10:20:30.426994Z"
    },
    "trusted": true
   },
   "outputs": [
    {
     "data": {
      "text/plain": [
       "(['1139490', '1192948', '1194042', '126247', '1346504'],\n",
       " ['yehcar1', 'yelori1', 'yeofly1', 'yercac1', 'ywcpar'])"
      ]
     },
     "execution_count": 19,
     "metadata": {},
     "output_type": "execute_result"
    }
   ],
   "source": [
    "t = pd.read_csv(TAXONOMY_PATH)\n",
    "class_labels = list(t['primary_label'])\n",
    "class_labels[:5], class_labels[-5:]"
   ]
  },
  {
   "cell_type": "markdown",
   "metadata": {},
   "source": [
    "`TEST_SCAPES_PATH` is populated during submission of the notebook."
   ]
  },
  {
   "cell_type": "code",
   "execution_count": 20,
   "metadata": {
    "execution": {
     "iopub.execute_input": "2025-03-18T10:21:47.981881Z",
     "iopub.status.busy": "2025-03-18T10:21:47.981566Z",
     "iopub.status.idle": "2025-03-18T10:21:47.988753Z",
     "shell.execute_reply": "2025-03-18T10:21:47.987777Z",
     "shell.execute_reply.started": "2025-03-18T10:21:47.981858Z"
    },
    "trusted": true
   },
   "outputs": [
    {
     "data": {
      "text/plain": [
       "[]"
      ]
     },
     "execution_count": 20,
     "metadata": {},
     "output_type": "execute_result"
    }
   ],
   "source": [
    "# Populated during submission of notebook\n",
    "scape_paths = list(Path(TEST_SCAPES_PATH).glob(\"*.ogg\"))\n",
    "scape_paths[:10]"
   ]
  },
  {
   "cell_type": "markdown",
   "metadata": {},
   "source": [
    "## Helper functions"
   ]
  },
  {
   "cell_type": "markdown",
   "metadata": {},
   "source": [
    "Loading of audio is done efficiently using `soundfile`. `np.array_split` is an efficient way to split data into chunks."
   ]
  },
  {
   "cell_type": "code",
   "execution_count": 21,
   "metadata": {
    "execution": {
     "iopub.execute_input": "2025-03-14T20:35:24.968507Z",
     "iopub.status.busy": "2025-03-14T20:35:24.968064Z",
     "iopub.status.idle": "2025-03-14T20:35:24.97684Z",
     "shell.execute_reply": "2025-03-14T20:35:24.975582Z",
     "shell.execute_reply.started": "2025-03-14T20:35:24.968464Z"
    },
    "trusted": true
   },
   "outputs": [],
   "source": [
    "def load_audio(path) -> np.ndarray:\n",
    "    with sf.SoundFile(path) as f: audio = f.read()\n",
    "    return audio\n",
    "\n",
    "def get_chunks(path) -> list[np.ndarray]:\n",
    "    \"\"\" Create 5 second chunks (1D arrays) from audio file. \"\"\"\n",
    "    audio = load_audio(path)\n",
    "    return np.array_split(audio, np.ceil(audio.shape[0] / FIVE_SEC_SR))"
   ]
  },
  {
   "cell_type": "markdown",
   "metadata": {},
   "source": [
    "## Inference"
   ]
  },
  {
   "cell_type": "markdown",
   "metadata": {},
   "source": [
    "We make a prediction for each chunk within each soundscape."
   ]
  },
  {
   "cell_type": "code",
   "execution_count": 22,
   "metadata": {
    "execution": {
     "iopub.execute_input": "2025-03-14T20:35:24.978711Z",
     "iopub.status.busy": "2025-03-14T20:35:24.978154Z",
     "iopub.status.idle": "2025-03-14T20:35:24.995038Z",
     "shell.execute_reply": "2025-03-14T20:35:24.993766Z",
     "shell.execute_reply.started": "2025-03-14T20:35:24.978667Z"
    },
    "trusted": true
   },
   "outputs": [],
   "source": [
    "cols = [\"row_id\"] + class_labels\n",
    "rows = []\n",
    "for path in scape_paths:\n",
    "    for i, chunk in enumerate(get_chunks(path), start=1):\n",
    "        row_id = f\"{Path(path).stem}_{i * CHUNK_SEC}\"\n",
    "        # Place your inference function here (Random predictions as placeholder)\n",
    "        #########################################\n",
    "        pred = np.random.uniform(low=0.0, high=0.72, size=len(class_labels))\n",
    "        #########################################\n",
    "        rows.append([row_id] + pred.tolist())"
   ]
  },
  {
   "cell_type": "markdown",
   "metadata": {},
   "source": [
    "We make sure that the final file contains `row_id` and the `206` class labels. Be careful if you have shuffled the order of your class labels in training."
   ]
  },
  {
   "cell_type": "code",
   "execution_count": 23,
   "metadata": {
    "execution": {
     "iopub.execute_input": "2025-03-14T20:35:24.996752Z",
     "iopub.status.busy": "2025-03-14T20:35:24.996383Z",
     "iopub.status.idle": "2025-03-14T20:35:25.039587Z",
     "shell.execute_reply": "2025-03-14T20:35:25.038393Z",
     "shell.execute_reply.started": "2025-03-14T20:35:24.996727Z"
    },
    "trusted": true
   },
   "outputs": [
    {
     "data": {
      "text/html": [
       "<div>\n",
       "<style scoped>\n",
       "    .dataframe tbody tr th:only-of-type {\n",
       "        vertical-align: middle;\n",
       "    }\n",
       "\n",
       "    .dataframe tbody tr th {\n",
       "        vertical-align: top;\n",
       "    }\n",
       "\n",
       "    .dataframe thead th {\n",
       "        text-align: right;\n",
       "    }\n",
       "</style>\n",
       "<table border=\"1\" class=\"dataframe\">\n",
       "  <thead>\n",
       "    <tr style=\"text-align: right;\">\n",
       "      <th></th>\n",
       "      <th>row_id</th>\n",
       "      <th>1139490</th>\n",
       "      <th>1192948</th>\n",
       "      <th>1194042</th>\n",
       "      <th>126247</th>\n",
       "      <th>1346504</th>\n",
       "      <th>134933</th>\n",
       "      <th>135045</th>\n",
       "      <th>1462711</th>\n",
       "      <th>1462737</th>\n",
       "      <th>...</th>\n",
       "      <th>yebfly1</th>\n",
       "      <th>yebsee1</th>\n",
       "      <th>yecspi2</th>\n",
       "      <th>yectyr1</th>\n",
       "      <th>yehbla2</th>\n",
       "      <th>yehcar1</th>\n",
       "      <th>yelori1</th>\n",
       "      <th>yeofly1</th>\n",
       "      <th>yercac1</th>\n",
       "      <th>ywcpar</th>\n",
       "    </tr>\n",
       "  </thead>\n",
       "  <tbody>\n",
       "  </tbody>\n",
       "</table>\n",
       "<p>0 rows × 207 columns</p>\n",
       "</div>"
      ],
      "text/plain": [
       "Empty DataFrame\n",
       "Columns: [row_id, 1139490, 1192948, 1194042, 126247, 1346504, 134933, 135045, 1462711, 1462737, 1564122, 21038, 21116, 21211, 22333, 22973, 22976, 24272, 24292, 24322, 41663, 41778, 41970, 42007, 42087, 42113, 46010, 47067, 476537, 476538, 48124, 50186, 517119, 523060, 528041, 52884, 548639, 555086, 555142, 566513, 64862, 65336, 65344, 65349, 65373, 65419, 65448, 65547, 65962, 66016, 66531, 66578, 66893, 67082, 67252, 714022, 715170, 787625, 81930, 868458, 963335, amakin1, amekes, ampkin1, anhing, babwar, bafibi1, banana, baymac, bbwduc, bicwre1, bkcdon, bkmtou1, blbgra1, blbwre1, blcant4, blchaw1, blcjay1, blctit1, blhpar1, blkvul, bobfly1, bobher1, brtpar1, bubcur1, bubwre1, bucmot3, bugtan, butsal1, cargra1, cattyr, chbant1, chfmac1, cinbec1, cocher1, cocwoo1, colara1, colcha1, compau, compot1, ...]\n",
       "Index: []\n",
       "\n",
       "[0 rows x 207 columns]"
      ]
     },
     "execution_count": 23,
     "metadata": {},
     "output_type": "execute_result"
    }
   ],
   "source": [
    "preds = pd.DataFrame(rows, columns=cols)\n",
    "preds.head(2)"
   ]
  },
  {
   "cell_type": "markdown",
   "metadata": {},
   "source": [
    "## Submission"
   ]
  },
  {
   "cell_type": "code",
   "execution_count": 24,
   "metadata": {
    "execution": {
     "iopub.execute_input": "2025-03-14T20:35:25.040819Z",
     "iopub.status.busy": "2025-03-14T20:35:25.040452Z",
     "iopub.status.idle": "2025-03-14T20:35:25.051797Z",
     "shell.execute_reply": "2025-03-14T20:35:25.050313Z",
     "shell.execute_reply.started": "2025-03-14T20:35:25.040785Z"
    },
    "trusted": true
   },
   "outputs": [],
   "source": [
    "preds.to_csv(\"submission.csv\", index=False)"
   ]
  },
  {
   "cell_type": "markdown",
   "metadata": {},
   "source": [
    "**That's it! Hope this helps you to get started with the competition!**\n",
    "\n",
    "**If you like this Kaggle kernel, consider giving an upvote and leaving a comment. Your feedback is very welcome! I will try to implement your suggestions in this kernel.**"
   ]
  }
 ],
 "metadata": {
  "kaggle": {
   "accelerator": "none",
   "dataSources": [
    {
     "databundleVersionId": 11361821,
     "sourceId": 91844,
     "sourceType": "competition"
    }
   ],
   "dockerImageVersionId": 30918,
   "isGpuEnabled": false,
   "isInternetEnabled": false,
   "language": "python",
   "sourceType": "notebook"
  },
  "kernelspec": {
   "display_name": "BirdCLEF-2025-WeerwaarT",
   "language": "python",
   "name": "python3"
  },
  "language_info": {
   "codemirror_mode": {
    "name": "ipython",
    "version": 3
   },
   "file_extension": ".py",
   "mimetype": "text/x-python",
   "name": "python",
   "nbconvert_exporter": "python",
   "pygments_lexer": "ipython3",
   "version": "3.11.11"
  }
 },
 "nbformat": 4,
 "nbformat_minor": 4
}
